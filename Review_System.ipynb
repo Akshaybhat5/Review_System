{
  "nbformat": 4,
  "nbformat_minor": 0,
  "metadata": {
    "colab": {
      "name": "Review_System.ipynb",
      "private_outputs": true,
      "provenance": []
    },
    "kernelspec": {
      "name": "python3",
      "display_name": "Python 3"
    },
    "language_info": {
      "name": "python"
    }
  },
  "cells": [
    {
      "cell_type": "code",
      "metadata": {
        "id": "-zowGue-lUOo"
      },
      "source": [
        "import pandas as pd\n",
        "import numpy as np\n",
        "import seaborn as sns\n",
        "import matplotlib.pyplot as plt\n",
        "\n",
        "\n",
        "from sklearn.model_selection import train_test_split\n",
        "from sklearn.metrics import accuracy_score, confusion_matrix,classification_report\n",
        "from sklearn.feature_extraction.text import CountVectorizer\n",
        "import tensorflow as tf\n",
        "\n",
        "\n",
        "import re\n",
        "import nltk\n",
        "nltk.download('stopwords')\n",
        "from nltk.corpus import stopwords\n",
        "from nltk.stem.porter import PorterStemmer"
      ],
      "execution_count": null,
      "outputs": []
    },
    {
      "cell_type": "code",
      "metadata": {
        "id": "9ZjPcsTHmTHl"
      },
      "source": [
        "data = pd.read_csv('Restaurant_Reviews.tsv', delimiter='\\t', quoting=3)"
      ],
      "execution_count": null,
      "outputs": []
    },
    {
      "cell_type": "code",
      "metadata": {
        "id": "Vc29BXj8meJK"
      },
      "source": [
        "data.head()"
      ],
      "execution_count": null,
      "outputs": []
    },
    {
      "cell_type": "code",
      "metadata": {
        "id": "lAoEzK4zmzAp"
      },
      "source": [
        "data.shape"
      ],
      "execution_count": null,
      "outputs": []
    },
    {
      "cell_type": "code",
      "metadata": {
        "id": "J7FasCVlmfN_"
      },
      "source": [
        "# data cleaning\n",
        "\n",
        "corpus = []\n",
        "\n",
        "for i in range(0,1000):\n",
        "  review = re.sub('[^a-zA-Z]', ' ', data['Review'][i])\n",
        "  review = review.lower()\n",
        "  review = review.split()\n",
        "  ps = PorterStemmer()\n",
        "  all_words = stopwords.words('english')\n",
        "  all_words.remove('not')\n",
        "  review = [ps.stem(word) for word in review if not word in set(all_words)]\n",
        "  review = ' '.join(review)\n",
        "  corpus.append(review)"
      ],
      "execution_count": null,
      "outputs": []
    },
    {
      "cell_type": "code",
      "metadata": {
        "id": "zIZD7jKrnTJ-"
      },
      "source": [
        "print(corpus)"
      ],
      "execution_count": null,
      "outputs": []
    },
    {
      "cell_type": "code",
      "metadata": {
        "id": "twcWoNClnUsB"
      },
      "source": [
        "# bag of words model\n",
        "\n",
        "cv = CountVectorizer(max_features=1500)\n",
        "X = cv.fit_transform(corpus).toarray()"
      ],
      "execution_count": null,
      "outputs": []
    },
    {
      "cell_type": "code",
      "metadata": {
        "id": "TUB4sivynkc-"
      },
      "source": [
        "X"
      ],
      "execution_count": null,
      "outputs": []
    },
    {
      "cell_type": "code",
      "metadata": {
        "id": "Tnid9xdpnk_b"
      },
      "source": [
        "y = data.iloc[:,-1].values"
      ],
      "execution_count": null,
      "outputs": []
    },
    {
      "cell_type": "code",
      "metadata": {
        "id": "LVPthXYcnn3J"
      },
      "source": [
        "y"
      ],
      "execution_count": null,
      "outputs": []
    },
    {
      "cell_type": "code",
      "metadata": {
        "id": "itOfkkN9noTF"
      },
      "source": [
        "X_train, X_test, y_train, y_test = train_test_split(X, y, test_size = .2, random_state = 365)"
      ],
      "execution_count": null,
      "outputs": []
    },
    {
      "cell_type": "code",
      "metadata": {
        "id": "bClDBwIEn2lu"
      },
      "source": [
        "from sklearn.naive_bayes import GaussianNB\n",
        "classifier = GaussianNB()\n",
        "classifier.fit(X_train, y_train)"
      ],
      "execution_count": null,
      "outputs": []
    },
    {
      "cell_type": "code",
      "metadata": {
        "id": "rtcFQJ13oBtK"
      },
      "source": [
        "y_pred = classifier.predict(X_test)"
      ],
      "execution_count": null,
      "outputs": []
    },
    {
      "cell_type": "code",
      "metadata": {
        "id": "OlEdFPCPoFfw"
      },
      "source": [
        "y_pred"
      ],
      "execution_count": null,
      "outputs": []
    },
    {
      "cell_type": "code",
      "metadata": {
        "id": "Tai47OnioGni"
      },
      "source": [
        "accuracy_score(y_test, y_pred)"
      ],
      "execution_count": null,
      "outputs": []
    },
    {
      "cell_type": "code",
      "metadata": {
        "id": "Pt-KOUdjoJT5"
      },
      "source": [
        "confusion_matrix(y_test, y_pred)"
      ],
      "execution_count": null,
      "outputs": []
    },
    {
      "cell_type": "code",
      "metadata": {
        "id": "_4pwUmYUoL7b"
      },
      "source": [
        "print(classification_report(y_test, y_pred))"
      ],
      "execution_count": null,
      "outputs": []
    },
    {
      "cell_type": "code",
      "metadata": {
        "id": "kgKZEvWRoPgx"
      },
      "source": [
        "print(np.concatenate((y_pred.reshape(len(y_pred),1), y_test.reshape(len(y_test),1)),1))"
      ],
      "execution_count": null,
      "outputs": []
    },
    {
      "cell_type": "code",
      "metadata": {
        "id": "IVvkUXqGofmM"
      },
      "source": [
        "model = tf.keras.models.Sequential()\n",
        "\n",
        "model.add(tf.keras.layers.Dense(units=500, activation='relu'))\n",
        "model.add(tf.keras.layers.Dense(units=500, activation='relu'))\n",
        "model.add(tf.keras.layers.Dense(units=500, activation='relu'))\n",
        "model.add(tf.keras.layers.Dense(units=1, activation='sigmoid'))"
      ],
      "execution_count": null,
      "outputs": []
    },
    {
      "cell_type": "code",
      "metadata": {
        "id": "uBdqXbLSpOMX"
      },
      "source": [
        "model.compile(optimizer='adam', loss='binary_crossentropy',metrics=['accuracy'])"
      ],
      "execution_count": null,
      "outputs": []
    },
    {
      "cell_type": "code",
      "metadata": {
        "id": "MNuNQTmepVyM"
      },
      "source": [
        "R = model.fit(X_train, y_train, batch_size=128, epochs=100)"
      ],
      "execution_count": null,
      "outputs": []
    },
    {
      "cell_type": "code",
      "metadata": {
        "id": "1WpHuqzrpa8z"
      },
      "source": [
        "y_pred_2 = model.predict(X_test)"
      ],
      "execution_count": null,
      "outputs": []
    },
    {
      "cell_type": "code",
      "metadata": {
        "id": "O_86vVzUpzyC"
      },
      "source": [
        "y_pred_2"
      ],
      "execution_count": null,
      "outputs": []
    },
    {
      "cell_type": "code",
      "metadata": {
        "id": "m5hta7Fpq0wh"
      },
      "source": [
        "prediction = model.predict(X_test)"
      ],
      "execution_count": null,
      "outputs": []
    },
    {
      "cell_type": "code",
      "metadata": {
        "id": "rqk0cKqrq4fi"
      },
      "source": [
        "prediction = (prediction>0.5)"
      ],
      "execution_count": null,
      "outputs": []
    },
    {
      "cell_type": "code",
      "metadata": {
        "id": "u16vBOy5q5-M"
      },
      "source": [
        "prediction"
      ],
      "execution_count": null,
      "outputs": []
    },
    {
      "cell_type": "code",
      "metadata": {
        "id": "KzPBw9MZrBN7"
      },
      "source": [
        "def review(pred):\n",
        "  for i in pred:\n",
        "    if i>0.5:\n",
        "      print('positive review')\n",
        "    else:\n",
        "      print('negative review')"
      ],
      "execution_count": null,
      "outputs": []
    },
    {
      "cell_type": "code",
      "metadata": {
        "id": "QBLzWhHPrO-l"
      },
      "source": [
        "review(prediction[6])"
      ],
      "execution_count": null,
      "outputs": []
    },
    {
      "cell_type": "code",
      "metadata": {
        "id": "Lo6DfpmrrRb3"
      },
      "source": [
        "plt.figure(figsize=(16,6))\n",
        "\n",
        "plt.subplot(1,2,1)\n",
        "plt.plot(R.history['accuracy'],label='accuracy during model training',color='green')\n",
        "plt.xlabel('Epochs')\n",
        "plt.title('ACCURACY', fontweight='bold')\n",
        "plt.legend()\n",
        "\n",
        "plt.subplot(1,2,2)\n",
        "plt.plot(R.history['loss'], label='loss during model training',color='r')\n",
        "plt.xlabel('Epochs')\n",
        "plt.title('LOSS',fontweight='bold')\n",
        "plt.legend()\n",
        "\n",
        "plt.tight_layout()"
      ],
      "execution_count": null,
      "outputs": []
    },
    {
      "cell_type": "code",
      "metadata": {
        "id": "dMI0oZ3Krn4e"
      },
      "source": [
        "def review_system():\n",
        "  rvs = input('please enter your review: ')\n",
        "  rvs = re.sub('[^a-zA-Z]', ' ', rvs)\n",
        "  rvs = rvs.lower()\n",
        "  rvs = rvs.split()\n",
        "  ps = PorterStemmer()\n",
        "  all_words = stopwords.words('english')\n",
        "  all_words.remove('not')\n",
        "  rvs = [ps.stem(word) for word in rvs if not word in set(all_words)]\n",
        "  rvs = ' '.join(rvs)\n",
        "  new_corpus = [rvs]\n",
        "  new_X_test = cv.transform(new_corpus).toarray()\n",
        "  new_y_pred = model.predict(new_X_test)\n",
        "  new_y_pred = (new_y_pred>0.5)\n",
        "  for i in new_y_pred:\n",
        "    if i>0.5:\n",
        "      return'Positive Review'\n",
        "    else:\n",
        "      return 'Negative Review'\n",
        "  print(new_y_pred)"
      ],
      "execution_count": null,
      "outputs": []
    },
    {
      "cell_type": "code",
      "metadata": {
        "id": "JTGaBerXtJJ3"
      },
      "source": [
        "review_system()"
      ],
      "execution_count": null,
      "outputs": []
    },
    {
      "cell_type": "code",
      "metadata": {
        "id": "K6xxltiQtQ-N"
      },
      "source": [
        "review_system()"
      ],
      "execution_count": null,
      "outputs": []
    },
    {
      "cell_type": "code",
      "metadata": {
        "id": "52IcB7Lit6jd"
      },
      "source": [
        "review_system()"
      ],
      "execution_count": null,
      "outputs": []
    },
    {
      "cell_type": "code",
      "metadata": {
        "id": "Il5pzbxbt9YF"
      },
      "source": [
        "review_system()"
      ],
      "execution_count": null,
      "outputs": []
    },
    {
      "cell_type": "code",
      "metadata": {
        "id": "yL0pmic0yirl"
      },
      "source": [
        "model.save('Review_System.h5')"
      ],
      "execution_count": null,
      "outputs": []
    },
    {
      "cell_type": "code",
      "metadata": {
        "id": "z5l1rY322yM5"
      },
      "source": [
        "review_system()"
      ],
      "execution_count": null,
      "outputs": []
    },
    {
      "cell_type": "code",
      "metadata": {
        "id": "ck_Z-_W729st"
      },
      "source": [
        ""
      ],
      "execution_count": null,
      "outputs": []
    }
  ]
}